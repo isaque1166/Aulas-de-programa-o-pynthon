{
  "nbformat": 4,
  "nbformat_minor": 0,
  "metadata": {
    "colab": {
      "provenance": [],
      "authorship_tag": "ABX9TyPsfJvogj3ZNIKvTlWdf+r2",
      "include_colab_link": true
    },
    "kernelspec": {
      "name": "python3",
      "display_name": "Python 3"
    },
    "language_info": {
      "name": "python"
    }
  },
  "cells": [
    {
      "cell_type": "markdown",
      "metadata": {
        "id": "view-in-github",
        "colab_type": "text"
      },
      "source": [
        "<a href=\"https://colab.research.google.com/github/isaque1166/Aulas-de-programa-o-pynthon/blob/main/Dicion%C3%A1rio_py.ipynb\" target=\"_parent\"><img src=\"https://colab.research.google.com/assets/colab-badge.svg\" alt=\"Open In Colab\"/></a>"
      ]
    },
    {
      "cell_type": "code",
      "execution_count": 9,
      "metadata": {
        "colab": {
          "base_uri": "https://localhost:8080/"
        },
        "id": "qiAUUuzccAqJ",
        "outputId": "2622798a-89e8-4eec-f1e6-db622575161a"
      },
      "outputs": [
        {
          "output_type": "execute_result",
          "data": {
            "text/plain": [
              "{'nome': 'Juca',\n",
              " 'RA': '1235216995',\n",
              " 'Data_Nascim': '10/10/1995',\n",
              " 'Telefones': [83993943145, 83939099876]}"
            ]
          },
          "metadata": {},
          "execution_count": 9
        }
      ],
      "source": [
        "aluno = {\n",
        "    \"nome\": \"Juca\",\n",
        "    \"RA\" : \"1235216995\",\n",
        "    \"Data_Nascim\": \"10/10/1995\",\n",
        "    \"Telefones\": [83993943145, 83939099876]\n",
        "}\n",
        "aluno"
      ]
    },
    {
      "cell_type": "code",
      "source": [
        "dicionario_vazio = {}\n",
        "dicionario = {\n",
        "    \"nome\": \"Luiza\",\n",
        "    \"idade\": 22\n",
        "}\n",
        "dicionario_misto = {1: \"a\", True: \"b\"}"
      ],
      "metadata": {
        "id": "Ye4VXT2AeEcQ"
      },
      "execution_count": 5,
      "outputs": []
    },
    {
      "cell_type": "code",
      "source": [
        "print(aluno[\"nome\"])\n",
        "print(aluno[\"RA\"])\n",
        "print(aluno[\"Telefones\"])\n",
        "print(aluno[\"Telefones\"][0])"
      ],
      "metadata": {
        "colab": {
          "base_uri": "https://localhost:8080/"
        },
        "id": "XUi5oonjf-wI",
        "outputId": "b66312e9-aa19-42af-d768-97d67d888b0f"
      },
      "execution_count": 12,
      "outputs": [
        {
          "output_type": "stream",
          "name": "stdout",
          "text": [
            "Juca\n",
            "1235216995\n",
            "[83993943145, 83939099876]\n",
            "83993943145\n"
          ]
        }
      ]
    },
    {
      "cell_type": "code",
      "source": [
        "Livro = {\n",
        "    \"Titulo\": \"Cacadores de Deus\",\n",
        "    \"Autor\": \"Tommy Tenney\",\n",
        "    \"Ano_publicado\": \"01/01/2009\"\n",
        "}\n",
        "Livro\n",
        "print(Livro.get(\"editora\", \"desconhecida\"))"
      ],
      "metadata": {
        "colab": {
          "base_uri": "https://localhost:8080/"
        },
        "id": "gFZaPfK8hKqk",
        "outputId": "c30187da-dbe9-473d-87b4-05e346e2e289"
      },
      "execution_count": 26,
      "outputs": [
        {
          "output_type": "stream",
          "name": "stdout",
          "text": [
            "desconhecida\n"
          ]
        }
      ]
    },
    {
      "cell_type": "code",
      "source": [
        "\n",
        "print(aluno[\"nome\"])\n",
        "print(aluno.get(\"endereco\"))\n",
        "print(aluno.get(\"endereco\", \"Não tem endereco\"))"
      ],
      "metadata": {
        "colab": {
          "base_uri": "https://localhost:8080/"
        },
        "id": "Mye35hg2jA_k",
        "outputId": "65bd9909-e8e5-476b-b9ae-e8f4b559d59d"
      },
      "execution_count": 19,
      "outputs": [
        {
          "output_type": "stream",
          "name": "stdout",
          "text": [
            "Juca\n",
            "None\n",
            "Não tem endereco\n"
          ]
        }
      ]
    },
    {
      "cell_type": "code",
      "source": [
        "dados = {\"nome\": \"Maria\", \"telefone\": 2225588}\n",
        "print(dados.get(\"nome\"))\n",
        "print(dados.get(\"telefone\"))\n",
        "print(dados.get(\"telefone\", \"Nao informado\"))"
      ],
      "metadata": {
        "colab": {
          "base_uri": "https://localhost:8080/"
        },
        "id": "KP9T96wAjwo8",
        "outputId": "c8e5eb00-c2f5-46bc-9233-c80688135420"
      },
      "execution_count": 22,
      "outputs": [
        {
          "output_type": "stream",
          "name": "stdout",
          "text": [
            "Maria\n",
            "2225588\n",
            "2225588\n"
          ]
        }
      ]
    },
    {
      "cell_type": "code",
      "source": [
        "aluno[\"RA\"] = \"12345\"\n",
        "aluno[\"curso\"] = \"ADS\"\n",
        "print(aluno)\n",
        "aluno.get(\"curso\")"
      ],
      "metadata": {
        "colab": {
          "base_uri": "https://localhost:8080/",
          "height": 73
        },
        "id": "qxWRk492kuDR",
        "outputId": "a6c744d7-e200-44b3-b3a3-e6e96f603648"
      },
      "execution_count": 27,
      "outputs": [
        {
          "output_type": "stream",
          "name": "stdout",
          "text": [
            "{'nome': 'Juca', 'RA': '12345', 'Data_Nascim': '10/10/1995', 'Telefones': [83993943145, 83939099876], 'curso': 'ADS'}\n"
          ]
        },
        {
          "output_type": "execute_result",
          "data": {
            "text/plain": [
              "'ADS'"
            ],
            "application/vnd.google.colaboratory.intrinsic+json": {
              "type": "string"
            }
          },
          "metadata": {},
          "execution_count": 27
        }
      ]
    },
    {
      "cell_type": "code",
      "source": [
        "Livro[\"editora\"] = \"Bello Publicacoes\"\n",
        "Livro[\"Ano_publicado\"] = \"2023\"\n",
        "print(Livro)\n",
        "Livro.get(\"editora\")"
      ],
      "metadata": {
        "colab": {
          "base_uri": "https://localhost:8080/",
          "height": 73
        },
        "id": "hxOG7wiLmLOH",
        "outputId": "e49165f8-a247-4bb4-ec53-f86bfdb15681"
      },
      "execution_count": 28,
      "outputs": [
        {
          "output_type": "stream",
          "name": "stdout",
          "text": [
            "{'Titulo': 'Cacadores de Deus', 'Autor': 'Tommy Tenney', 'Ano_publicado': '2023', 'editora': 'Bello Publicacoes'}\n"
          ]
        },
        {
          "output_type": "execute_result",
          "data": {
            "text/plain": [
              "'Bello Publicacoes'"
            ],
            "application/vnd.google.colaboratory.intrinsic+json": {
              "type": "string"
            }
          },
          "metadata": {},
          "execution_count": 28
        }
      ]
    },
    {
      "cell_type": "code",
      "source": [
        "del aluno[\"curso\"]\n",
        "print(aluno)"
      ],
      "metadata": {
        "colab": {
          "base_uri": "https://localhost:8080/"
        },
        "id": "ujS5szSanRQv",
        "outputId": "210c62b5-638a-4820-fe2b-aa5d2f647d97"
      },
      "execution_count": 29,
      "outputs": [
        {
          "output_type": "stream",
          "name": "stdout",
          "text": [
            "{'nome': 'Juca', 'RA': '12345', 'Data_Nascim': '10/10/1995', 'Telefones': [83993943145, 83939099876]}\n"
          ]
        }
      ]
    },
    {
      "cell_type": "code",
      "source": [
        "aluno.pop(\"curso\", 0)\n",
        "print(aluno)"
      ],
      "metadata": {
        "colab": {
          "base_uri": "https://localhost:8080/"
        },
        "id": "ccd-AYkHndE_",
        "outputId": "3c19188a-2a5a-4d0e-c92a-ed00abe7b817"
      },
      "execution_count": 30,
      "outputs": [
        {
          "output_type": "stream",
          "name": "stdout",
          "text": [
            "{'nome': 'Juca', 'RA': '12345', 'Data_Nascim': '10/10/1995', 'Telefones': [83993943145, 83939099876]}\n"
          ]
        }
      ]
    },
    {
      "cell_type": "code",
      "source": [
        "item = aluno.popitem()\n",
        "print(item)"
      ],
      "metadata": {
        "colab": {
          "base_uri": "https://localhost:8080/"
        },
        "id": "v9Shbk16nl-G",
        "outputId": "91726732-442d-49a8-efcc-77a5ff42ccef"
      },
      "execution_count": 31,
      "outputs": [
        {
          "output_type": "stream",
          "name": "stdout",
          "text": [
            "('Telefones', [83993943145, 83939099876])\n"
          ]
        }
      ]
    },
    {
      "cell_type": "code",
      "source": [
        "aluno.clear()\n",
        "print(aluno)"
      ],
      "metadata": {
        "colab": {
          "base_uri": "https://localhost:8080/"
        },
        "id": "zEHNgzmyn7A4",
        "outputId": "6f7c45f8-8ebe-4cea-8d53-74d35d2bc3fa"
      },
      "execution_count": 32,
      "outputs": [
        {
          "output_type": "stream",
          "name": "stdout",
          "text": [
            "{}\n"
          ]
        }
      ]
    },
    {
      "cell_type": "code",
      "source": [
        "del Livro[\"Autor\"]\n",
        "print(Livro)"
      ],
      "metadata": {
        "colab": {
          "base_uri": "https://localhost:8080/"
        },
        "id": "ZluO1zkpo4J6",
        "outputId": "db472e47-713c-48ed-e1e1-ee74387df971"
      },
      "execution_count": 33,
      "outputs": [
        {
          "output_type": "stream",
          "name": "stdout",
          "text": [
            "{'Titulo': 'Cacadores de Deus', 'Ano_publicado': '2023', 'editora': 'Bello Publicacoes'}\n"
          ]
        }
      ]
    },
    {
      "cell_type": "code",
      "source": [
        "dados = {\n",
        "    \"nome\": \"Pedro\",\n",
        "    \"idade\": 35\n",
        "}\n",
        "print(\"nome\" in dados)\n",
        "print(\"telefone\" in dados)\n",
        "print(\"Pedro\" in dados.values())"
      ],
      "metadata": {
        "colab": {
          "base_uri": "https://localhost:8080/"
        },
        "id": "w-Qe5xP6pdai",
        "outputId": "467daa4a-9865-4b59-adc0-ed5b34915ab2"
      },
      "execution_count": 34,
      "outputs": [
        {
          "output_type": "stream",
          "name": "stdout",
          "text": [
            "True\n",
            "False\n",
            "True\n"
          ]
        }
      ]
    },
    {
      "cell_type": "code",
      "source": [
        "print(type(dados.items()))"
      ],
      "metadata": {
        "colab": {
          "base_uri": "https://localhost:8080/"
        },
        "id": "w2k-562fqN_L",
        "outputId": "4ac09815-3e2e-4214-cc7d-9bd1e1c55269"
      },
      "execution_count": 35,
      "outputs": [
        {
          "output_type": "stream",
          "name": "stdout",
          "text": [
            "<class 'dict_items'>\n"
          ]
        }
      ]
    },
    {
      "cell_type": "code",
      "source": [
        "for chave in dados.keys():\n",
        "  print(chave)"
      ],
      "metadata": {
        "colab": {
          "base_uri": "https://localhost:8080/"
        },
        "id": "akWdtNX6qjbC",
        "outputId": "63955d68-a8ea-4e1b-fcb7-eccbc84404e4"
      },
      "execution_count": 36,
      "outputs": [
        {
          "output_type": "stream",
          "name": "stdout",
          "text": [
            "nome\n",
            "idade\n"
          ]
        }
      ]
    },
    {
      "cell_type": "code",
      "source": [
        "for valor in dados.values():\n",
        "  print(valor)"
      ],
      "metadata": {
        "colab": {
          "base_uri": "https://localhost:8080/"
        },
        "id": "_gGmHtbUqvVS",
        "outputId": "f4a0bfe2-b2ac-4d26-ec09-0db71ede5454"
      },
      "execution_count": 37,
      "outputs": [
        {
          "output_type": "stream",
          "name": "stdout",
          "text": [
            "Pedro\n",
            "35\n"
          ]
        }
      ]
    },
    {
      "cell_type": "code",
      "source": [
        "for chave, valor in dados.items():\n",
        "  print(f\"{chave}: {valor}\")"
      ],
      "metadata": {
        "colab": {
          "base_uri": "https://localhost:8080/"
        },
        "id": "vR3TqvOGq5Ga",
        "outputId": "f24075ac-115f-435d-b1df-436107c83812"
      },
      "execution_count": 38,
      "outputs": [
        {
          "output_type": "stream",
          "name": "stdout",
          "text": [
            "nome: Pedro\n",
            "idade: 35\n"
          ]
        }
      ]
    },
    {
      "cell_type": "code",
      "source": [
        "Linguagens = {\n",
        "    \"Python\" : 1991,\n",
        "    \"C++\" : 1985,\n",
        "    \"Java\": 1995\n",
        "}\n",
        "for chave, valor in Linguagens.items():\n",
        "  print(f\"{chave}: {valor}\")"
      ],
      "metadata": {
        "colab": {
          "base_uri": "https://localhost:8080/"
        },
        "id": "2WFYZ2BWrOmb",
        "outputId": "4cbcfdce-3821-4026-d9df-dfea3132d991"
      },
      "execution_count": 41,
      "outputs": [
        {
          "output_type": "stream",
          "name": "stdout",
          "text": [
            "Python: 1991\n",
            "C++: 1985\n",
            "Java: 1995\n"
          ]
        }
      ]
    },
    {
      "cell_type": "code",
      "source": [
        "Filme = {\n",
        "    \"Título\" : \"Velozes e furiosos\",\n",
        "    \"Diretor\" : \"James Wan\",\n",
        "    \"Ano\" : 2015,\n",
        "    \"GÊNERO\" : \"Ação\"\n",
        "}\n",
        "Filme"
      ],
      "metadata": {
        "colab": {
          "base_uri": "https://localhost:8080/"
        },
        "id": "kmFf7LYfumI9",
        "outputId": "e4a0e40d-1e2f-47b9-ed52-12484611e429"
      },
      "execution_count": 46,
      "outputs": [
        {
          "output_type": "execute_result",
          "data": {
            "text/plain": [
              "{'Título': 'Velozes e furiosos',\n",
              " 'Diretor': 'James Wan',\n",
              " 'Ano': 2015,\n",
              " 'GÊNERO': 'Ação'}"
            ]
          },
          "metadata": {},
          "execution_count": 46
        }
      ]
    },
    {
      "cell_type": "code",
      "source": [
        "Filme[\"Classificação\"] = \"Não definido\"\n",
        "Filme.get(\"Classificação\")"
      ],
      "metadata": {
        "colab": {
          "base_uri": "https://localhost:8080/",
          "height": 35
        },
        "id": "l2RKmKCpv35-",
        "outputId": "68408943-84c5-4c64-976b-a3d28ace3708"
      },
      "execution_count": 53,
      "outputs": [
        {
          "output_type": "execute_result",
          "data": {
            "text/plain": [
              "'Não definido'"
            ],
            "application/vnd.google.colaboratory.intrinsic+json": {
              "type": "string"
            }
          },
          "metadata": {},
          "execution_count": 53
        }
      ]
    },
    {
      "cell_type": "code",
      "source": [
        "Filme[\"Duração\"] = \"2h 20m\"\n",
        "Filme[\"Ano\"] = \"2024\"\n",
        "print(Filme)\n",
        "Filme.get(\"Duração\")"
      ],
      "metadata": {
        "colab": {
          "base_uri": "https://localhost:8080/",
          "height": 73
        },
        "id": "RNx5rIwdxnfn",
        "outputId": "c215190a-0e73-4913-bffd-c05f9b9eae9d"
      },
      "execution_count": 54,
      "outputs": [
        {
          "output_type": "stream",
          "name": "stdout",
          "text": [
            "{'Título': 'Velozes e furiosos', 'Diretor': 'James Wan', 'Ano': '2024', 'GÊNERO': 'Ação', 'Classificação': 'Não definido', 'Duração': '2h 20m'}\n"
          ]
        },
        {
          "output_type": "execute_result",
          "data": {
            "text/plain": [
              "'2h 20m'"
            ],
            "application/vnd.google.colaboratory.intrinsic+json": {
              "type": "string"
            }
          },
          "metadata": {},
          "execution_count": 54
        }
      ]
    },
    {
      "cell_type": "code",
      "source": [
        "del Filme[\"GÊNERO\"]\n",
        "print(Filme)"
      ],
      "metadata": {
        "colab": {
          "base_uri": "https://localhost:8080/"
        },
        "id": "Z7a4zO-Uyfr4",
        "outputId": "632e6337-d08e-4892-b456-eab164eb6026"
      },
      "execution_count": 55,
      "outputs": [
        {
          "output_type": "stream",
          "name": "stdout",
          "text": [
            "{'Título': 'Velozes e furiosos', 'Diretor': 'James Wan', 'Ano': '2024', 'Classificação': 'Não definido', 'Duração': '2h 20m'}\n"
          ]
        }
      ]
    },
    {
      "cell_type": "code",
      "source": [
        "pais = [\n",
        "    {\"pais\": \"Japão\", \"Capital\": \"Tokyo\"},\n",
        "    {\"pais\": \"Brasil\", \"Capital\":\"Brasilia\"},\n",
        "    {\"pais\": \"Argentina\", \"Capital\": \"Buenos aires\"}\n",
        "]\n",
        "pais"
      ],
      "metadata": {
        "colab": {
          "base_uri": "https://localhost:8080/"
        },
        "id": "fvwpe9qby6Lw",
        "outputId": "439be3c9-97e4-4f51-b0ef-5b0bdae09e19"
      },
      "execution_count": 58,
      "outputs": [
        {
          "output_type": "execute_result",
          "data": {
            "text/plain": [
              "[{'pais': 'Japão', 'Capital': 'Tokyo'},\n",
              " {'pais': 'Brasil', 'Capital': 'Brasilia'},\n",
              " {'pais': 'Argentina', 'Capital': 'Buenos aires'}]"
            ]
          },
          "metadata": {},
          "execution_count": 58
        }
      ]
    }
  ]
}