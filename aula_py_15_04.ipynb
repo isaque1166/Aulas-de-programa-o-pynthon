{
  "nbformat": 4,
  "nbformat_minor": 0,
  "metadata": {
    "colab": {
      "provenance": [],
      "authorship_tag": "ABX9TyOM6lRGK3rCOlwcBIP2GrBv",
      "include_colab_link": true
    },
    "kernelspec": {
      "name": "python3",
      "display_name": "Python 3"
    },
    "language_info": {
      "name": "python"
    }
  },
  "cells": [
    {
      "cell_type": "markdown",
      "metadata": {
        "id": "view-in-github",
        "colab_type": "text"
      },
      "source": [
        "<a href=\"https://colab.research.google.com/github/isaque1166/Aulas-de-programa-o-pynthon/blob/main/aula_py_15_04.ipynb\" target=\"_parent\"><img src=\"https://colab.research.google.com/assets/colab-badge.svg\" alt=\"Open In Colab\"/></a>"
      ]
    },
    {
      "cell_type": "code",
      "source": [
        " quadrados = [x**2 for x in range(10)]\n",
        " print(quadrados)"
      ],
      "metadata": {
        "colab": {
          "base_uri": "https://localhost:8080/"
        },
        "id": "wHwiakfGZuMg",
        "outputId": "395bb008-ae34-47a6-bdf4-52d40242e18a"
      },
      "execution_count": 1,
      "outputs": [
        {
          "output_type": "stream",
          "name": "stdout",
          "text": [
            "[0, 1, 4, 9, 16, 25, 36, 49, 64, 81]\n"
          ]
        }
      ]
    },
    {
      "cell_type": "code",
      "execution_count": 2,
      "metadata": {
        "colab": {
          "base_uri": "https://localhost:8080/"
        },
        "id": "ttCd07AUZmQF",
        "outputId": "66d4fa90-1a1a-41f3-9e0e-d71647901531"
      },
      "outputs": [
        {
          "output_type": "stream",
          "name": "stdout",
          "text": [
            "[4, 3]\n"
          ]
        }
      ],
      "source": [
        "notas = [9, 8, 4, 3, 6]\n",
        "menores = [nota for nota in notas if nota < 5]\n",
        "print(menores)"
      ]
    },
    {
      "cell_type": "code",
      "source": [
        "numeros = [1, 2, 3, 4, 5, 6]\n",
        "pares = [n for n in numeros if n % 2 == 0]\n",
        "print(pares)"
      ],
      "metadata": {
        "colab": {
          "base_uri": "https://localhost:8080/"
        },
        "id": "LBiBxvbQbQLY",
        "outputId": "49de89d1-7b56-4c7c-93da-cff8c1f5c320"
      },
      "execution_count": 3,
      "outputs": [
        {
          "output_type": "stream",
          "name": "stdout",
          "text": [
            "[2, 4, 6]\n"
          ]
        }
      ]
    },
    {
      "cell_type": "code",
      "source": [
        "nome = 'Pablo'\n",
        "for letra in nome:\n",
        "  print(letra)\n",
        "\n",
        "print(len(nome))\n",
        "print(nome.upper())\n",
        "print(nome.lower())"
      ],
      "metadata": {
        "colab": {
          "base_uri": "https://localhost:8080/"
        },
        "id": "CgubwW1kd7ZO",
        "outputId": "5e212bc3-af6d-4753-b841-3499100e2a75"
      },
      "execution_count": 7,
      "outputs": [
        {
          "output_type": "stream",
          "name": "stdout",
          "text": [
            "P\n",
            "a\n",
            "b\n",
            "l\n",
            "o\n",
            "5\n",
            "PABLO\n",
            "pablo\n"
          ]
        }
      ]
    },
    {
      "cell_type": "code",
      "source": [
        "nome = ['Lucas', 'Ana', 'Epaminondas', 'Godofredo', 'Lair', 'Setembrino']\n",
        "maisde5 = [nome for nome in nome if len(nome) > 4]\n",
        "print(maisde5)"
      ],
      "metadata": {
        "colab": {
          "base_uri": "https://localhost:8080/"
        },
        "id": "9shSrRXuem1c",
        "outputId": "793f793c-4404-489c-d0e0-9352f42603be"
      },
      "execution_count": 12,
      "outputs": [
        {
          "output_type": "stream",
          "name": "stdout",
          "text": [
            "['Lucas', 'Epaminondas', 'Godofredo', 'Setembrino']\n"
          ]
        }
      ]
    },
    {
      "cell_type": "code",
      "source": [
        "nome = ['Lucas', 'Ana', 'Epaminondas', 'Godofredo', 'Lair', 'Setembrino']\n",
        "caixaAlta = [nome.upper() for nome in nome if len(nome) < 5]\n",
        "print(caixaAlta)"
      ],
      "metadata": {
        "colab": {
          "base_uri": "https://localhost:8080/"
        },
        "id": "qG7o6ETJgwdn",
        "outputId": "f8687dcb-8466-4a52-ca2e-38dd0c955d53"
      },
      "execution_count": 14,
      "outputs": [
        {
          "output_type": "stream",
          "name": "stdout",
          "text": [
            "['ANA', 'LAIR']\n"
          ]
        }
      ]
    },
    {
      "cell_type": "code",
      "source": [
        "numeros =  [1, 2, 3, 4, 5, 6]\n",
        "dobro_impares = [n*2 for n in numeros if n % 2 != 0]\n",
        "print(dobro_impares)"
      ],
      "metadata": {
        "colab": {
          "base_uri": "https://localhost:8080/"
        },
        "id": "QlGWG4x8iHZo",
        "outputId": "13f69502-ef34-4687-9873-0ca16d6022a6"
      },
      "execution_count": 15,
      "outputs": [
        {
          "output_type": "stream",
          "name": "stdout",
          "text": [
            "[2, 6, 10]\n"
          ]
        }
      ]
    },
    {
      "cell_type": "code",
      "source": [
        "notas = [9.0, 6.9, 2.5, 6.0, 5.3, 4.5]\n",
        "pontos = [notas+2 for notas in notas if notas < 5]\n",
        "print(pontos)"
      ],
      "metadata": {
        "colab": {
          "base_uri": "https://localhost:8080/"
        },
        "id": "2fs0GF9iinp4",
        "outputId": "3cb5c35d-95a1-4d5f-b40f-cf984bb2456a"
      },
      "execution_count": 19,
      "outputs": [
        {
          "output_type": "stream",
          "name": "stdout",
          "text": [
            "[4.5, 6.5]\n"
          ]
        }
      ]
    },
    {
      "cell_type": "code",
      "source": [
        "soma = lambda x, y: x + y\n",
        "print(soma(3, 5))"
      ],
      "metadata": {
        "colab": {
          "base_uri": "https://localhost:8080/"
        },
        "id": "JyKmIVjaj9Cp",
        "outputId": "d5e9c623-07a9-491e-dbc4-7ed7abd6ba2b"
      },
      "execution_count": 20,
      "outputs": [
        {
          "output_type": "stream",
          "name": "stdout",
          "text": [
            "8\n"
          ]
        }
      ]
    },
    {
      "cell_type": "code",
      "source": [
        "metade = lambda a : a/2\n",
        "print(metade(9))"
      ],
      "metadata": {
        "colab": {
          "base_uri": "https://localhost:8080/"
        },
        "id": "l24DBZ7IkJkZ",
        "outputId": "ec92b9bb-ae6e-4435-85b0-bf0a37695e8e"
      },
      "execution_count": 22,
      "outputs": [
        {
          "output_type": "stream",
          "name": "stdout",
          "text": [
            "4.5\n"
          ]
        }
      ]
    },
    {
      "cell_type": "code",
      "source": [
        "dobro = lambda a : a*2\n",
        "print(dobro(5))"
      ],
      "metadata": {
        "colab": {
          "base_uri": "https://localhost:8080/"
        },
        "id": "2jl94KvIl3Jc",
        "outputId": "407093ee-b8c7-4a78-ebbd-3af83429d8b8"
      },
      "execution_count": 26,
      "outputs": [
        {
          "output_type": "stream",
          "name": "stdout",
          "text": [
            "10\n"
          ]
        }
      ]
    },
    {
      "cell_type": "code",
      "source": [
        "numeros = [2,3,4,5,6,7]\n",
        "quadrados = list(map(lambda a: a**2, numeros))\n",
        "print(quadrados)"
      ],
      "metadata": {
        "colab": {
          "base_uri": "https://localhost:8080/"
        },
        "id": "maOysXAhmEPb",
        "outputId": "6e7c7dd5-a2da-4be5-b938-57c436072c7c"
      },
      "execution_count": 24,
      "outputs": [
        {
          "output_type": "stream",
          "name": "stdout",
          "text": [
            "[4, 9, 16, 25, 36, 49]\n"
          ]
        }
      ]
    },
    {
      "cell_type": "code",
      "source": [
        "numeros = [2,3,4,5,6,7]\n",
        "dobro = list(map(lambda a : a*2, numeros))\n",
        "print(dobro)"
      ],
      "metadata": {
        "colab": {
          "base_uri": "https://localhost:8080/"
        },
        "id": "OxeNAxVlmzzM",
        "outputId": "903ba84b-47b2-4e56-c1f8-bfd72851470f"
      },
      "execution_count": 27,
      "outputs": [
        {
          "output_type": "stream",
          "name": "stdout",
          "text": [
            "[4, 6, 8, 10, 12, 14]\n"
          ]
        }
      ]
    },
    {
      "cell_type": "code",
      "source": [
        "palavras = ['é', 'Hoje', 'my', 'ConsaGrated']\n",
        "Upper = list(map(lambda x : x.upper(), palavras))\n",
        "print(Upper)"
      ],
      "metadata": {
        "colab": {
          "base_uri": "https://localhost:8080/"
        },
        "id": "khJtEv7HnWx0",
        "outputId": "0bd2eae5-89cc-4208-e3fb-3d89014250dd"
      },
      "execution_count": 33,
      "outputs": [
        {
          "output_type": "stream",
          "name": "stdout",
          "text": [
            "['É', 'HOJE', 'MY', 'CONSAGRATED']\n"
          ]
        }
      ]
    },
    {
      "cell_type": "code",
      "source": [
        "numeros = [1, 2, 3, 4]\n",
        "pares = list(filter(lambda x : x % 2 == 0, numeros))\n",
        "print(pares)"
      ],
      "metadata": {
        "colab": {
          "base_uri": "https://localhost:8080/"
        },
        "id": "Xvk347nooqqw",
        "outputId": "fd29f532-b9f5-44a1-86c1-a5c40c0b6785"
      },
      "execution_count": 36,
      "outputs": [
        {
          "output_type": "stream",
          "name": "stdout",
          "text": [
            "[2, 4]\n"
          ]
        }
      ]
    },
    {
      "cell_type": "code",
      "source": [
        "nomes = ['Cristiano', 'Alien', 'Ary', 'Bete', 'Já']\n",
        "maisde4 = list(filter(lambda x : len(x)>4, nomes ))\n",
        "print(maisde4)"
      ],
      "metadata": {
        "colab": {
          "base_uri": "https://localhost:8080/"
        },
        "id": "wJP0x89VpHmI",
        "outputId": "3ae7dafc-b41f-435d-82aa-7629cdf9d736"
      },
      "execution_count": 38,
      "outputs": [
        {
          "output_type": "stream",
          "name": "stdout",
          "text": [
            "['Cristiano', 'Alien']\n"
          ]
        }
      ]
    },
    {
      "cell_type": "code",
      "source": [
        "nomes = ['Cristiano', 'Alien', 'Ary', 'Bete', 'Já', 'Epaminondas']\n",
        "maisde10 = list(filter(lambda x : len(x)>10, nomes ))\n",
        "print(maisde10)"
      ],
      "metadata": {
        "colab": {
          "base_uri": "https://localhost:8080/"
        },
        "id": "9eH8f0Woqd3Y",
        "outputId": "cf3f3459-5d33-4dce-9549-16d10d4570ef"
      },
      "execution_count": 39,
      "outputs": [
        {
          "output_type": "stream",
          "name": "stdout",
          "text": [
            "['Epaminondas']\n"
          ]
        }
      ]
    },
    {
      "cell_type": "code",
      "source": [
        "numeros = [4, 6, 8, 10, 12, 14]\n",
        "maisde10 = list(filter(lambda x : x > 10, numeros))\n",
        "print(maisde10)"
      ],
      "metadata": {
        "colab": {
          "base_uri": "https://localhost:8080/"
        },
        "id": "CYW-Vmnhqw_f",
        "outputId": "a7ff5e68-e969-4b10-a1ee-5fb99302307d"
      },
      "execution_count": 41,
      "outputs": [
        {
          "output_type": "stream",
          "name": "stdout",
          "text": [
            "[12, 14]\n"
          ]
        }
      ]
    },
    {
      "cell_type": "code",
      "source": [
        "numeros = [3,7,2,8,1,4,10]\n",
        "dobro = list(map(lambda x : x*2, numeros))\n",
        "print(dobro)"
      ],
      "metadata": {
        "colab": {
          "base_uri": "https://localhost:8080/"
        },
        "id": "AtfboZprrWwo",
        "outputId": "5efb2998-2091-4fef-c647-2c9fe3dc3002"
      },
      "execution_count": 42,
      "outputs": [
        {
          "output_type": "stream",
          "name": "stdout",
          "text": [
            "[6, 14, 4, 16, 2, 8, 20]\n"
          ]
        }
      ]
    },
    {
      "cell_type": "code",
      "source": [
        "numeros = [3,7,2,8,1,4,10]\n",
        "pares = list(filter(lambda x: x % 2 == 0, numeros))\n",
        "print(pares)"
      ],
      "metadata": {
        "colab": {
          "base_uri": "https://localhost:8080/"
        },
        "id": "kjkBGm_erwGZ",
        "outputId": "07f815e6-712f-4df6-f321-64a246d179de"
      },
      "execution_count": 44,
      "outputs": [
        {
          "output_type": "stream",
          "name": "stdout",
          "text": [
            "[2, 8, 4, 10]\n"
          ]
        }
      ]
    },
    {
      "cell_type": "code",
      "source": [
        "numeros = [3,7,2,8,1,4,10]\n",
        "paresImpares = [n*2 if n% 2 == 0 else n for n in numeros]\n",
        "print(paresImpares)"
      ],
      "metadata": {
        "colab": {
          "base_uri": "https://localhost:8080/"
        },
        "id": "YsUcII_FsIlI",
        "outputId": "723bd9a7-ff60-4b34-e891-de41e395ef15"
      },
      "execution_count": 57,
      "outputs": [
        {
          "output_type": "stream",
          "name": "stdout",
          "text": [
            "[3, 7, 4, 16, 1, 8, 20]\n"
          ]
        }
      ]
    }
  ]
}